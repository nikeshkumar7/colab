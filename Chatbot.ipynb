{
  "nbformat": 4,
  "nbformat_minor": 0,
  "metadata": {
    "colab": {
      "provenance": [],
      "include_colab_link": true
    },
    "kernelspec": {
      "name": "python3",
      "display_name": "Python 3"
    },
    "language_info": {
      "name": "python"
    }
  },
  "cells": [
    {
      "cell_type": "markdown",
      "metadata": {
        "id": "view-in-github",
        "colab_type": "text"
      },
      "source": [
        "<a href=\"https://colab.research.google.com/github/nikeshkumar7/colab/blob/main/Chatbot.ipynb\" target=\"_parent\"><img src=\"https://colab.research.google.com/assets/colab-badge.svg\" alt=\"Open In Colab\"/></a>"
      ]
    },
    {
      "cell_type": "code",
      "execution_count": null,
      "metadata": {
        "id": "3ZyIAC-58aZx"
      },
      "outputs": [],
      "source": [
        "import random\n",
        "# Define a list of greetings\n",
        "greetings = [\"Hello!\", \"Hi there!\", \"Welcome!\", \"Greetings!\"]"
      ]
    },
    {
      "cell_type": "code",
      "source": [
        "# Define a list of common questions\n",
        "common_questions = [\n",
        "\"What is your name?\",\n",
        "\"How can I help you today?\",\n",
        "\"What symptoms are you experiencing?\",\n",
        "\"Do you have any allergies?\",\n",
        "\"Are you currently taking any medications?\",\n",
        "]"
      ],
      "metadata": {
        "id": "wOEwCjDI8lUh"
      },
      "execution_count": null,
      "outputs": []
    },
    {
      "cell_type": "code",
      "source": [
        "# Define a list of responses\n",
        "responses = [\n",
        "\"I'm sorry, I'm just a chatbot and cannot provide medical advice. It's best to consult with a healthcare professional.\",\n",
        "\"Please consult with a doctor for proper diagnosis and treatment.\",\n",
        "\"It's important to seek medical attention for your condition.\",\n",
        "\"I recommend reaching out to a healthcare professional to discuss your concerns.\",\n",
        "]"
      ],
      "metadata": {
        "id": "q6MdzCOx8qzD"
      },
      "execution_count": null,
      "outputs": []
    },
    {
      "cell_type": "code",
      "source": [
        "# Function to generate a random greeting\n",
        "def get_random_greeting():\n",
        "  return random.choice(greetings)"
      ],
      "metadata": {
        "id": "hopKVSjx8uEC"
      },
      "execution_count": null,
      "outputs": []
    },
    {
      "cell_type": "code",
      "source": [
        "# Function to respond to user input\n",
        "def respond(user_input):\n",
        "  if user_input.endswith(\"?\"):\n",
        "    return random.choice(responses)\n",
        "  else:\n",
        "    return random.choice(common_questions)"
      ],
      "metadata": {
        "id": "JM_1hciy8yZa"
      },
      "execution_count": null,
      "outputs": []
    },
    {
      "cell_type": "code",
      "source": [
        "# Main chat loop\n",
        "def chat():\n",
        "  print(get_random_greeting())\n",
        "\n",
        "  while True:\n",
        "    user_input = input(\">\")\n",
        "    if user_input.lower() == \"exit\":\n",
        "      break\n",
        "    print(respond(user_input))"
      ],
      "metadata": {
        "id": "k_Pty0oy8-TK"
      },
      "execution_count": null,
      "outputs": []
    },
    {
      "cell_type": "code",
      "source": [
        "chat()"
      ],
      "metadata": {
        "colab": {
          "base_uri": "https://localhost:8080/"
        },
        "id": "OfUhHOlt9KJ_",
        "outputId": "4a218068-42eb-4172-b423-dfd310fb4272"
      },
      "execution_count": null,
      "outputs": [
        {
          "output_type": "stream",
          "name": "stdout",
          "text": [
            "Greetings!\n"
          ]
        }
      ]
    }
  ]
}