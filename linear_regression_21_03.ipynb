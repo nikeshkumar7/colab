{
  "nbformat": 4,
  "nbformat_minor": 0,
  "metadata": {
    "colab": {
      "provenance": [],
      "include_colab_link": true
    },
    "kernelspec": {
      "name": "python3",
      "display_name": "Python 3"
    },
    "language_info": {
      "name": "python"
    }
  },
  "cells": [
    {
      "cell_type": "markdown",
      "metadata": {
        "id": "view-in-github",
        "colab_type": "text"
      },
      "source": [
        "<a href=\"https://colab.research.google.com/github/nikeshkumar7/colab/blob/main/linear_regression_21_03.ipynb\" target=\"_parent\"><img src=\"https://colab.research.google.com/assets/colab-badge.svg\" alt=\"Open In Colab\"/></a>"
      ]
    },
    {
      "cell_type": "code",
      "execution_count": null,
      "metadata": {
        "id": "l0_GC7tPgj99"
      },
      "outputs": [],
      "source": [
        "import matplotlib.pyplot as plt\n",
        "from scipy import stats"
      ]
    },
    {
      "cell_type": "code",
      "source": [
        "x=[5,6,7,8,9,10,11,12,13,14,15,16,17,18]\n",
        "y=[44,55,66,77,22,32,11,45,65,78,87,23,98,34]"
      ],
      "metadata": {
        "id": "TxUJgLgri7SK"
      },
      "execution_count": null,
      "outputs": []
    },
    {
      "cell_type": "code",
      "source": [
        "slope, intercept, r, p, std_err=stats.linregress(x,y)"
      ],
      "metadata": {
        "id": "PdS-3c0UjOdU"
      },
      "execution_count": null,
      "outputs": []
    },
    {
      "cell_type": "code",
      "source": [
        "def myfunc(x):\n",
        "  return slope*x +intercept"
      ],
      "metadata": {
        "id": "6FZsTXoWjhFn"
      },
      "execution_count": null,
      "outputs": []
    },
    {
      "cell_type": "code",
      "source": [
        "s=myfunc(20)\n",
        "print(s)"
      ],
      "metadata": {
        "colab": {
          "base_uri": "https://localhost:8080/"
        },
        "id": "YGA1ovFbjzBY",
        "outputId": "8eaf2d57-5644-44b7-c2c8-4ea4968c697b"
      },
      "execution_count": null,
      "outputs": [
        {
          "output_type": "stream",
          "name": "stdout",
          "text": [
            "60.84395604395604\n"
          ]
        }
      ]
    },
    {
      "cell_type": "code",
      "source": [
        "mymodel=list(map(myfunc,x))\n",
        "plt.scatter(x,y)\n",
        "plt.plot(x,mymodel)\n",
        "plt.show()"
      ],
      "metadata": {
        "colab": {
          "base_uri": "https://localhost:8080/",
          "height": 265
        },
        "id": "lAPTFpdvocd7",
        "outputId": "885c139a-1958-4505-ed5c-2cb37881fe20"
      },
      "execution_count": null,
      "outputs": [
        {
          "output_type": "display_data",
          "data": {
            "text/plain": [
              "<Figure size 432x288 with 1 Axes>"
            ],
            "image/png": "[encoded data removed]"
          },
          "metadata": {
            "needs_background": "light"
          }
        }
      ]
    },
    {
      "cell_type": "code",
      "source": [
        "from sklearn.linear_model import LinearRegression\n"
      ],
      "metadata": {
        "id": "10iUptRlsrxl"
      },
      "execution_count": null,
      "outputs": []
    },
    {
      "cell_type": "code",
      "source": [
        "a = [[1], [2], [3], [4], [5]]\n",
        "b = [[2], [4], [5], [4], [5]]"
      ],
      "metadata": {
        "id": "I-QGiYQgu4X2"
      },
      "execution_count": null,
      "outputs": []
    },
    {
      "cell_type": "code",
      "source": [
        "reg = LinearRegression()\n",
        "\n",
        "# Train the model using the input data\n",
        "reg.fit(a, b)\n",
        "\n",
        "# Print the coefficient\n",
        "print(reg.coef_)"
      ],
      "metadata": {
        "colab": {
          "base_uri": "https://localhost:8080/"
        },
        "id": "8Qve1yYVuszW",
        "outputId": "2a297f37-ac06-49ed-9b79-2875c879bc54"
      },
      "execution_count": null,
      "outputs": [
        {
          "output_type": "stream",
          "name": "stdout",
          "text": [
            "[[0.6]]\n"
          ]
        }
      ]
    }
  ]
}